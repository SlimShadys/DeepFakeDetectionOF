{
 "cells": [
  {
   "cell_type": "code",
   "execution_count": null,
   "metadata": {},
   "outputs": [],
   "source": [
    "!pip install -U tqdm gdown"
   ]
  },
  {
   "cell_type": "code",
   "execution_count": 2,
   "metadata": {},
   "outputs": [
    {
     "name": "stdout",
     "output_type": "stream",
     "text": [
      "Dependencies loaded.\n",
      "===================================================\n",
      "Cuda available: True\n",
      "GPU: NVIDIA GeForce RTX 3060 Laptop GPU\n",
      "Total memory: 6.0 GB\n",
      "===================================================\n"
     ]
    }
   ],
   "source": [
    "import os\n",
    "import shutil\n",
    "import zipfile\n",
    "\n",
    "import gdown\n",
    "import matplotlib.pyplot as plt\n",
    "import numpy as np\n",
    "import torch\n",
    "import torch.nn as nn\n",
    "import torchvision.models as models\n",
    "import torchvision.transforms as transforms\n",
    "from torch.utils.data import DataLoader\n",
    "from torchvision.datasets import ImageFolder\n",
    "from torchvision.models import VGG16_Weights\n",
    "from tqdm.auto import tqdm\n",
    "\n",
    "print('Dependencies loaded.')\n",
    "\n",
    "print(\"===================================================\")\n",
    "if(torch.cuda.is_available()):\n",
    "    device = torch.device(\"cuda\")\n",
    "    print('Cuda available: {}'.format(torch.cuda.is_available()))\n",
    "    print(\"GPU: \" + torch.cuda.get_device_name(torch.cuda.current_device()))\n",
    "    print(\"Total memory: {:.1f} GB\".format((float(torch.cuda.get_device_properties(0).total_memory / (1024 ** 3)))))\n",
    "else:\n",
    "    device = torch.device(\"cpu\")\n",
    "    print('Cuda not available, so using CPU. Please consider switching to a GPU runtime!')\n",
    "print(\"===================================================\")"
   ]
  },
  {
   "cell_type": "code",
   "execution_count": 3,
   "metadata": {},
   "outputs": [
    {
     "data": {
      "application/json": {
       "ascii": false,
       "bar_format": null,
       "colour": null,
       "elapsed": 0.011027812957763672,
       "initial": 0,
       "n": 0,
       "ncols": null,
       "nrows": null,
       "postfix": null,
       "prefix": "Extracting ",
       "rate": null,
       "total": 567713,
       "unit": "it",
       "unit_divisor": 1000,
       "unit_scale": false
      },
      "application/vnd.jupyter.widget-view+json": {
       "model_id": "350c1590e03f46b9bdca0a632dd6db77",
       "version_major": 2,
       "version_minor": 0
      },
      "text/plain": [
       "Extracting :   0%|          | 0/567713 [00:00<?, ?it/s]"
      ]
     },
     "metadata": {},
     "output_type": "display_data"
    },
    {
     "name": "stdout",
     "output_type": "stream",
     "text": [
      "Deleting the previous downloaded zip.\n",
      "Done.\n"
     ]
    }
   ],
   "source": [
    "# Dataset Download\n",
    "ID = '1wYzBpucuU_RPMebUrWi2TH3Mfz-ykBGl'\n",
    "output = 'Dataset.zip'\n",
    "\n",
    "datasetDirectory = \"Dataset\"\n",
    "if not (os.path.exists(datasetDirectory)):\n",
    "  os.makedirs(datasetDirectory)\n",
    "\n",
    "# dataset_url = 'https://drive.google.com/uc?id=' + ID + '&export=download&confirm=t'\n",
    "# gdown.download(dataset_url, output, quiet=False)\n",
    "\n",
    "with zipfile.ZipFile(output) as zf:\n",
    "    for member in tqdm(zf.infolist(), desc='Extracting '):\n",
    "        try:\n",
    "            zf.extract(member, datasetDirectory)\n",
    "        except zipfile.error as e:\n",
    "            pass\n",
    "\n",
    "print('Deleting the previous downloaded zip.')\n",
    "os.remove('Dataset.zip')\n",
    "print('Done.')"
   ]
  },
  {
   "cell_type": "code",
   "execution_count": 28,
   "metadata": {},
   "outputs": [],
   "source": [
    "model = models.vgg16(weights=VGG16_Weights.DEFAULT)\n",
    "\n",
    "# Replace the last fully connected layer\n",
    "num_features = model.classifier[6].in_features\n",
    "model.classifier[6] = nn.Linear(num_features, 2)  # 2 for binary classification"
   ]
  },
  {
   "cell_type": "code",
   "execution_count": 29,
   "metadata": {},
   "outputs": [
    {
     "name": "stdout",
     "output_type": "stream",
     "text": [
      "Parameter: features.0.weight | Requires grad: False\n",
      "Parameter: features.0.bias | Requires grad: False\n",
      "Parameter: features.2.weight | Requires grad: False\n",
      "Parameter: features.2.bias | Requires grad: False\n",
      "Parameter: features.5.weight | Requires grad: False\n",
      "Parameter: features.5.bias | Requires grad: False\n",
      "Parameter: features.7.weight | Requires grad: False\n",
      "Parameter: features.7.bias | Requires grad: False\n",
      "Parameter: features.10.weight | Requires grad: False\n",
      "Parameter: features.10.bias | Requires grad: False\n",
      "Parameter: features.12.weight | Requires grad: False\n",
      "Parameter: features.12.bias | Requires grad: False\n",
      "Parameter: features.14.weight | Requires grad: False\n",
      "Parameter: features.14.bias | Requires grad: False\n",
      "Parameter: features.17.weight | Requires grad: False\n",
      "Parameter: features.17.bias | Requires grad: False\n",
      "Parameter: features.19.weight | Requires grad: False\n",
      "Parameter: features.19.bias | Requires grad: False\n",
      "Parameter: features.21.weight | Requires grad: False\n",
      "Parameter: features.21.bias | Requires grad: False\n",
      "Parameter: features.24.weight | Requires grad: True\n",
      "Parameter: features.24.bias | Requires grad: True\n",
      "Parameter: features.26.weight | Requires grad: True\n",
      "Parameter: features.26.bias | Requires grad: True\n",
      "Parameter: features.28.weight | Requires grad: True\n",
      "Parameter: features.28.bias | Requires grad: True\n",
      "Parameter: classifier.0.weight | Requires grad: True\n",
      "Parameter: classifier.0.bias | Requires grad: True\n",
      "Parameter: classifier.3.weight | Requires grad: True\n",
      "Parameter: classifier.3.bias | Requires grad: True\n",
      "Parameter: classifier.6.weight | Requires grad: True\n",
      "Parameter: classifier.6.bias | Requires grad: True\n"
     ]
    }
   ],
   "source": [
    "for name, param in model.named_parameters():\n",
    "    if name.startswith(\"classifier\"):\n",
    "        param.requires_grad=True\n",
    "    if name.startswith(\"features\"):\n",
    "       if int(name.split(\".\")[1])>=24:     \n",
    "            param.requires_grad=True\n",
    "       else:\n",
    "           param.requires_grad=False\n",
    "    \n",
    "    # Print the requires_grad property for each parameter\n",
    "    print(f\"Parameter: {name} | Requires grad: {param.requires_grad}\")    \n",
    "\n",
    "model = model.to(device)"
   ]
  },
  {
   "cell_type": "code",
   "execution_count": 30,
   "metadata": {},
   "outputs": [],
   "source": [
    "criterion = nn.CrossEntropyLoss()  # Cross-entropy loss for classification\n",
    "optimizer = torch.optim.Adam(model.parameters(), lr=1e-4)  # Optimizer for training the last layer\n",
    "epochs = 2"
   ]
  },
  {
   "cell_type": "code",
   "execution_count": 31,
   "metadata": {},
   "outputs": [
    {
     "name": "stdout",
     "output_type": "stream",
     "text": [
      "===================================================\n",
      "Training feature shape : torch.Size([64, 3, 286, 286])\n",
      "Training labels shape  : torch.Size([64])\n",
      "----------------------------------------------\n",
      "Test feature shape     : torch.Size([64, 3, 384, 384])\n",
      "Test labels shape      : torch.Size([64])\n",
      "===================================================\n"
     ]
    },
    {
     "data": {
      "image/png": "[encoded data removed]",
      "text/plain": [
       "<Figure size 640x480 with 1 Axes>"
      ]
     },
     "metadata": {},
     "output_type": "display_data"
    }
   ],
   "source": [
    "# Define data transformations\n",
    "transformTrain = transforms.Compose([\n",
    "    transforms.RandomHorizontalFlip(0.5),\n",
    "    transforms.CenterCrop(286),\n",
    "    transforms.ToTensor(),\n",
    "    transforms.Normalize(mean=[0.485, 0.456, 0.406], std=[0.229, 0.224, 0.225])\n",
    "])\n",
    "\n",
    "transformsTest = transforms.Compose([\n",
    "    transforms.ToTensor(),\n",
    "    transforms.Normalize(mean=[0.485, 0.456, 0.406], std=[0.229, 0.224, 0.225])\n",
    "])\n",
    "\n",
    "# Define paths for train_dir and test_dir according to split perfomed on OFs dataset\n",
    "train_dir = os.path.join(\"Dataset\", \"train\")\n",
    "test_dir = os.path.join(\"Dataset\", \"test\")\n",
    "\n",
    "# Load the custom dataset\n",
    "train_dataset = ImageFolder(root=train_dir, transform=transformTrain)\n",
    "test_dataset = ImageFolder(root=test_dir, transform=transformsTest)\n",
    "\n",
    "# Create data loaders\n",
    "train_loader = DataLoader(train_dataset, batch_size=64, shuffle=True)\n",
    "test_loader = DataLoader(test_dataset, batch_size=64, shuffle=False)\n",
    "\n",
    "# Dataloaders\n",
    "train_features, train_labels = next(iter(train_loader))\n",
    "print(\"===================================================\")\n",
    "print(f\"Training feature shape : {train_features.size()}\")\n",
    "print(f\"Training labels shape  : {train_labels.size()}\")\n",
    "print('----------------------------------------------')\n",
    "test_features, test_labels = next(iter(test_loader))\n",
    "print(f\"Test feature shape     : {test_features.size()}\")\n",
    "print(f\"Test labels shape      : {test_labels.size()}\")\n",
    "print(\"===================================================\")\n",
    "\n",
    "image = train_features[0]\n",
    "plt.imshow(image.permute(1,2,0).clamp(0,1))\n",
    "plt.title(F\"Label: {train_labels[0]}\")\n",
    "plt.show()"
   ]
  },
  {
   "cell_type": "code",
   "execution_count": 32,
   "metadata": {},
   "outputs": [
    {
     "data": {
      "application/json": {
       "ascii": false,
       "bar_format": null,
       "colour": null,
       "elapsed": 0.0029993057250976562,
       "initial": 0,
       "n": 0,
       "ncols": null,
       "nrows": null,
       "postfix": null,
       "prefix": "Epoch 1/11 | Training",
       "rate": null,
       "total": 7097,
       "unit": "it",
       "unit_divisor": 1000,
       "unit_scale": false
      },
      "application/vnd.jupyter.widget-view+json": {
       "model_id": "78b356a760e448888fc1ce3096595f5d",
       "version_major": 2,
       "version_minor": 0
      },
      "text/plain": [
       "Epoch 1/11 | Training:   0%|          | 0/7097 [00:00<?, ?it/s]"
      ]
     },
     "metadata": {},
     "output_type": "display_data"
    },
    {
     "ename": "KeyboardInterrupt",
     "evalue": "",
     "output_type": "error",
     "traceback": [
      "\u001b[1;31m---------------------------------------------------------------------------\u001b[0m",
      "\u001b[1;31mKeyboardInterrupt\u001b[0m                         Traceback (most recent call last)",
      "\u001b[1;32mc:\\Users\\gianc\\OneDrive\\Desktop\\vgg\\vgg16.ipynb Cell 8\u001b[0m in \u001b[0;36m2\n\u001b[0;32m     <a href='vscode-notebook-cell:/c%3A/Users/gianc/OneDrive/Desktop/vgg/vgg16.ipynb#X10sZmlsZQ%3D%3D?line=25'>26</a>\u001b[0m _, predicted \u001b[39m=\u001b[39m torch\u001b[39m.\u001b[39mmax(outputs\u001b[39m.\u001b[39mdata, \u001b[39m1\u001b[39m)\n\u001b[0;32m     <a href='vscode-notebook-cell:/c%3A/Users/gianc/OneDrive/Desktop/vgg/vgg16.ipynb#X10sZmlsZQ%3D%3D?line=26'>27</a>\u001b[0m totalTrain \u001b[39m+\u001b[39m\u001b[39m=\u001b[39m labels\u001b[39m.\u001b[39msize(\u001b[39m0\u001b[39m)\n\u001b[1;32m---> <a href='vscode-notebook-cell:/c%3A/Users/gianc/OneDrive/Desktop/vgg/vgg16.ipynb#X10sZmlsZQ%3D%3D?line=27'>28</a>\u001b[0m correctTrain \u001b[39m+\u001b[39m\u001b[39m=\u001b[39m (predicted \u001b[39m==\u001b[39;49m labels)\u001b[39m.\u001b[39;49msum()\u001b[39m.\u001b[39;49mitem()\n\u001b[0;32m     <a href='vscode-notebook-cell:/c%3A/Users/gianc/OneDrive/Desktop/vgg/vgg16.ipynb#X10sZmlsZQ%3D%3D?line=29'>30</a>\u001b[0m \u001b[39m# Backward and optimize\u001b[39;00m\n\u001b[0;32m     <a href='vscode-notebook-cell:/c%3A/Users/gianc/OneDrive/Desktop/vgg/vgg16.ipynb#X10sZmlsZQ%3D%3D?line=30'>31</a>\u001b[0m optimizer\u001b[39m.\u001b[39mzero_grad()\n",
      "\u001b[1;31mKeyboardInterrupt\u001b[0m: "
     ]
    }
   ],
   "source": [
    "trainLosses = []\n",
    "trainAccuracies = []\n",
    "valLosses = []\n",
    "valAccuracies = []\n",
    "\n",
    "bestAcc = 0\n",
    "\n",
    "for epoch in range(1, epochs+1):\n",
    "    # Training loop\n",
    "    model.train()\n",
    "    totalTrain = 0\n",
    "    correctTrain = 0\n",
    "\n",
    "    with tqdm(total=len(train_loader), desc=F'Epoch {epoch}/{epochs+1} | Training') as pbar:\n",
    "        for i, data in enumerate(train_loader):\n",
    "            images, labels = data\n",
    "\n",
    "            images = images.to(device)\n",
    "            labels = labels.to(device)\n",
    "\n",
    "            # Forward pass\n",
    "            outputs = model(images)\n",
    "            lTrain = criterion(outputs, labels)\n",
    "\n",
    "            # Accuracy\n",
    "            _, predicted = torch.max(outputs.data, 1)\n",
    "            totalTrain += labels.size(0)\n",
    "            correctTrain += (predicted == labels).sum().item()\n",
    "\n",
    "            # Backward and optimize\n",
    "            optimizer.zero_grad()\n",
    "            lTrain.backward()\n",
    "            optimizer.step()\n",
    "            pbar.update()\n",
    "\n",
    "    # Evaluation\n",
    "    model.eval()\n",
    "    with torch.no_grad():\n",
    "        correctVal = 0\n",
    "        totalVal = 0\n",
    "        with tqdm(total=len(test_loader), desc=F'Epoch {epoch}/{epochs+1} | Test') as pbar:\n",
    "            for i, data in enumerate(test_loader):\n",
    "                images, labels = data\n",
    "\n",
    "                images = images.to(device)\n",
    "                labels = labels.to(device)\n",
    "\n",
    "                outputs = model(images)\n",
    "                lVal = criterion(outputs, labels)\n",
    "\n",
    "                # Accuracy\n",
    "                _, predicted = torch.max(outputs.data, 1)\n",
    "                totalVal += labels.size(0)\n",
    "                correctVal += (predicted == labels).sum().item()\n",
    "                pbar.update()\n",
    "            \n",
    "    # Losses computation\n",
    "    train_loss_epoch = lTrain.item()\n",
    "    val_loss_epoch = lVal.item()\n",
    "    trainLosses.append(train_loss_epoch)\n",
    "    valLosses.append(val_loss_epoch)\n",
    "    \n",
    "    # Accuracies computation\n",
    "    val_acc_epoch = correctVal / totalVal\n",
    "    train_acc_epoch = correctTrain / totalTrain\n",
    "    trainAccuracies.append(train_acc_epoch)\n",
    "    valAccuracies.append(val_acc_epoch)\n",
    "\n",
    "    if(val_acc_epoch > bestAcc):\n",
    "        previousBestAcc = bestAcc\n",
    "        bestAcc = val_acc_epoch\n",
    "        print(\"\\nVal Accuracy increased at epoch {}: {:.5f} --> {:.5f} | Saving model..\".format(epoch, previousBestAcc, bestAcc))\n",
    "        torch.save(model, F\"vgg16_epoch-{epoch}_accT-{train_acc_epoch:.5f}_accV-{bestAcc:.5f}.pt\")\n",
    "\n",
    "    print('\\nEpoch {}/{}:\\n\\tTrain Acc: {:.3f} (avg. {:.3f}) | Train Loss: {:.3f} (avg. {:.3f}) | \\\n",
    "        \\n\\tVal Acc  : {:.3f} (avg. {:.3f}) | Val Loss: {:.3f} (avg. {:.3f}) |'.format(epoch, epochs, \n",
    "                                                                                    train_acc_epoch*100,\n",
    "                                                                                    np.average(trainAccuracies)*100,  \n",
    "                                                                                    train_loss_epoch,\n",
    "                                                                                    np.average(trainLosses),\n",
    "                                                                                    val_acc_epoch*100,\n",
    "                                                                                    np.average(valAccuracies)*100,\n",
    "                                                                                    val_loss_epoch,\n",
    "                                                                                    np.average(valLosses)))\n",
    "    print(\"=========================================\")"
   ]
  }
 ],
 "metadata": {
  "kernelspec": {
   "display_name": "base",
   "language": "python",
   "name": "python3"
  },
  "language_info": {
   "codemirror_mode": {
    "name": "ipython",
    "version": 3
   },
   "file_extension": ".py",
   "mimetype": "text/x-python",
   "name": "python",
   "nbconvert_exporter": "python",
   "pygments_lexer": "ipython3",
   "version": "3.9.13"
  },
  "orig_nbformat": 4
 },
 "nbformat": 4,
 "nbformat_minor": 2
}
