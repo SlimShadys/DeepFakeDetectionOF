{
 "cells": [
  {
   "cell_type": "code",
   "execution_count": 6,
   "metadata": {},
   "outputs": [],
   "source": [
    "import os\n",
    "import random\n",
    "import glob\n",
    "import shutil\n",
    "from tqdm import tqdm"
   ]
  },
  {
   "cell_type": "code",
   "execution_count": null,
   "metadata": {},
   "outputs": [],
   "source": [
    "dataset_path = R'path_to_dataset_folder'\n",
    "\n",
    "# Create train and test directories\n",
    "train_dir = os.path.join(dataset_path, 'train')\n",
    "test_dir = os.path.join(dataset_path, 'test')\n",
    "os.makedirs(train_dir, exist_ok=True)\n",
    "os.makedirs(test_dir, exist_ok=True)\n",
    "\n",
    "image_paths = glob.glob(os.path.join(dataset_path, '*.jpg'))    # Get a list of image file paths in the dataset folder\n",
    "\n",
    "random.seed(42) # Set the random seed for reproducibility\n",
    "\n",
    "random.shuffle(image_paths) # Shuffle the image paths\n",
    "train_ratio = 0.8   # Split ratio for train and test \n",
    "\n",
    "# Split the image paths into train and test sets\n",
    "train_paths = image_paths[:int(train_ratio * len(image_paths))]\n",
    "test_paths = image_paths[int(train_ratio * len(image_paths)):]\n",
    "\n",
    "# Move images to train directory\n",
    "with tqdm(total=len(train_paths), desc='Moving images to train directory') as pbar:\n",
    "    for path in train_paths:\n",
    "        filename = os.path.basename(path)\n",
    "        shutil.copy2(path, os.path.join(train_dir, filename))\n",
    "        pbar.update(1)\n",
    "\n",
    "# Move images to test directory\n",
    "with tqdm(total=len(test_paths), desc='Moving images to test directory') as pbar:\n",
    "    for path in test_paths:\n",
    "        filename = os.path.basename(path)\n",
    "        shutil.copy2(path, os.path.join(test_dir, filename))\n",
    "        pbar.update(1)"
   ]
  }
 ],
 "metadata": {
  "kernelspec": {
   "display_name": "base",
   "language": "python",
   "name": "python3"
  },
  "language_info": {
   "codemirror_mode": {
    "name": "ipython",
    "version": 3
   },
   "file_extension": ".py",
   "mimetype": "text/x-python",
   "name": "python",
   "nbconvert_exporter": "python",
   "pygments_lexer": "ipython3",
   "version": "3.9.13"
  },
  "orig_nbformat": 4
 },
 "nbformat": 4,
 "nbformat_minor": 2
}
